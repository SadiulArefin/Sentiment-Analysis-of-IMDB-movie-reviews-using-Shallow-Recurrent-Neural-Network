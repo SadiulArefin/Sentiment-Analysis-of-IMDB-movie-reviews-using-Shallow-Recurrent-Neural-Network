{
  "nbformat": 4,
  "nbformat_minor": 0,
  "metadata": {
    "colab": {
      "provenance": [],
      "toc_visible": true
    },
    "kernelspec": {
      "name": "python3",
      "display_name": "Python 3"
    },
    "language_info": {
      "name": "python"
    }
  },
  "cells": [
    {
      "cell_type": "code",
      "execution_count": 1,
      "metadata": {
        "colab": {
          "base_uri": "https://localhost:8080/"
        },
        "id": "loeI45gwRXrx",
        "outputId": "490e667e-f8d9-40ad-bcb9-522b368b5c25"
      },
      "outputs": [
        {
          "output_type": "stream",
          "name": "stdout",
          "text": [
            "/usr/local/lib/python3.10/dist-packages/gdown/cli.py:121: FutureWarning: Option `--id` was deprecated in version 4.3.1 and will be removed in 5.0. You don't need to pass it anymore to use a file ID.\n",
            "  warnings.warn(\n",
            "Downloading...\n",
            "From: https://drive.google.com/uc?id=1QPn5WNRVUAtowSAgkw8ZuR3IZf_pxIdu\n",
            "To: /content/IMDB_Dataset.csv\n",
            "100% 66.2M/66.2M [00:01<00:00, 58.1MB/s]\n",
            "/usr/local/lib/python3.10/dist-packages/gdown/cli.py:121: FutureWarning: Option `--id` was deprecated in version 4.3.1 and will be removed in 5.0. You don't need to pass it anymore to use a file ID.\n",
            "  warnings.warn(\n",
            "Downloading...\n",
            "From: https://drive.google.com/uc?id=13rg3cVqcNNP5Lhce_-EiQYkF3gx9BeGU\n",
            "To: /content/glove.6B.100d.txt\n",
            "100% 347M/347M [00:04<00:00, 84.8MB/s]\n"
          ]
        }
      ],
      "source": [
        "! gdown --id 1QPn5WNRVUAtowSAgkw8ZuR3IZf_pxIdu\n",
        "! gdown --id 13rg3cVqcNNP5Lhce_-EiQYkF3gx9BeGU"
      ]
    },
    {
      "cell_type": "code",
      "source": [
        "from google.colab import drive\n",
        "drive.mount('/content/drive')"
      ],
      "metadata": {
        "colab": {
          "base_uri": "https://localhost:8080/"
        },
        "id": "HO0S8J-yTqkq",
        "outputId": "668768a1-2396-46ec-a399-41a45fa04380"
      },
      "execution_count": 2,
      "outputs": [
        {
          "output_type": "stream",
          "name": "stdout",
          "text": [
            "Mounted at /content/drive\n"
          ]
        }
      ]
    },
    {
      "cell_type": "code",
      "source": [
        "import pandas as pd\n",
        "dataset = pd.read_csv(\"IMDB_Dataset.csv\")"
      ],
      "metadata": {
        "id": "PacwF77CRdN-"
      },
      "execution_count": 3,
      "outputs": []
    },
    {
      "cell_type": "code",
      "source": [
        "dataset.head()"
      ],
      "metadata": {
        "colab": {
          "base_uri": "https://localhost:8080/",
          "height": 206
        },
        "id": "cwgKP8nTRdLv",
        "outputId": "8db8a2f4-ba0b-4e05-c92b-3eb9ef87f701"
      },
      "execution_count": 4,
      "outputs": [
        {
          "output_type": "execute_result",
          "data": {
            "text/plain": [
              "                                              review sentiment\n",
              "0  One of the other reviewers has mentioned that ...  positive\n",
              "1  A wonderful little production. <br /><br />The...  positive\n",
              "2  I thought this was a wonderful way to spend ti...  positive\n",
              "3  Basically there's a family where a little boy ...  negative\n",
              "4  Petter Mattei's \"Love in the Time of Money\" is...  positive"
            ],
            "text/html": [
              "\n",
              "  <div id=\"df-31dbc11d-2b98-47bf-9e21-d1ba450a0a18\">\n",
              "    <div class=\"colab-df-container\">\n",
              "      <div>\n",
              "<style scoped>\n",
              "    .dataframe tbody tr th:only-of-type {\n",
              "        vertical-align: middle;\n",
              "    }\n",
              "\n",
              "    .dataframe tbody tr th {\n",
              "        vertical-align: top;\n",
              "    }\n",
              "\n",
              "    .dataframe thead th {\n",
              "        text-align: right;\n",
              "    }\n",
              "</style>\n",
              "<table border=\"1\" class=\"dataframe\">\n",
              "  <thead>\n",
              "    <tr style=\"text-align: right;\">\n",
              "      <th></th>\n",
              "      <th>review</th>\n",
              "      <th>sentiment</th>\n",
              "    </tr>\n",
              "  </thead>\n",
              "  <tbody>\n",
              "    <tr>\n",
              "      <th>0</th>\n",
              "      <td>One of the other reviewers has mentioned that ...</td>\n",
              "      <td>positive</td>\n",
              "    </tr>\n",
              "    <tr>\n",
              "      <th>1</th>\n",
              "      <td>A wonderful little production. &lt;br /&gt;&lt;br /&gt;The...</td>\n",
              "      <td>positive</td>\n",
              "    </tr>\n",
              "    <tr>\n",
              "      <th>2</th>\n",
              "      <td>I thought this was a wonderful way to spend ti...</td>\n",
              "      <td>positive</td>\n",
              "    </tr>\n",
              "    <tr>\n",
              "      <th>3</th>\n",
              "      <td>Basically there's a family where a little boy ...</td>\n",
              "      <td>negative</td>\n",
              "    </tr>\n",
              "    <tr>\n",
              "      <th>4</th>\n",
              "      <td>Petter Mattei's \"Love in the Time of Money\" is...</td>\n",
              "      <td>positive</td>\n",
              "    </tr>\n",
              "  </tbody>\n",
              "</table>\n",
              "</div>\n",
              "      <button class=\"colab-df-convert\" onclick=\"convertToInteractive('df-31dbc11d-2b98-47bf-9e21-d1ba450a0a18')\"\n",
              "              title=\"Convert this dataframe to an interactive table.\"\n",
              "              style=\"display:none;\">\n",
              "        \n",
              "  <svg xmlns=\"http://www.w3.org/2000/svg\" height=\"24px\"viewBox=\"0 0 24 24\"\n",
              "       width=\"24px\">\n",
              "    <path d=\"M0 0h24v24H0V0z\" fill=\"none\"/>\n",
              "    <path d=\"M18.56 5.44l.94 2.06.94-2.06 2.06-.94-2.06-.94-.94-2.06-.94 2.06-2.06.94zm-11 1L8.5 8.5l.94-2.06 2.06-.94-2.06-.94L8.5 2.5l-.94 2.06-2.06.94zm10 10l.94 2.06.94-2.06 2.06-.94-2.06-.94-.94-2.06-.94 2.06-2.06.94z\"/><path d=\"M17.41 7.96l-1.37-1.37c-.4-.4-.92-.59-1.43-.59-.52 0-1.04.2-1.43.59L10.3 9.45l-7.72 7.72c-.78.78-.78 2.05 0 2.83L4 21.41c.39.39.9.59 1.41.59.51 0 1.02-.2 1.41-.59l7.78-7.78 2.81-2.81c.8-.78.8-2.07 0-2.86zM5.41 20L4 18.59l7.72-7.72 1.47 1.35L5.41 20z\"/>\n",
              "  </svg>\n",
              "      </button>\n",
              "      \n",
              "  <style>\n",
              "    .colab-df-container {\n",
              "      display:flex;\n",
              "      flex-wrap:wrap;\n",
              "      gap: 12px;\n",
              "    }\n",
              "\n",
              "    .colab-df-convert {\n",
              "      background-color: #E8F0FE;\n",
              "      border: none;\n",
              "      border-radius: 50%;\n",
              "      cursor: pointer;\n",
              "      display: none;\n",
              "      fill: #1967D2;\n",
              "      height: 32px;\n",
              "      padding: 0 0 0 0;\n",
              "      width: 32px;\n",
              "    }\n",
              "\n",
              "    .colab-df-convert:hover {\n",
              "      background-color: #E2EBFA;\n",
              "      box-shadow: 0px 1px 2px rgba(60, 64, 67, 0.3), 0px 1px 3px 1px rgba(60, 64, 67, 0.15);\n",
              "      fill: #174EA6;\n",
              "    }\n",
              "\n",
              "    [theme=dark] .colab-df-convert {\n",
              "      background-color: #3B4455;\n",
              "      fill: #D2E3FC;\n",
              "    }\n",
              "\n",
              "    [theme=dark] .colab-df-convert:hover {\n",
              "      background-color: #434B5C;\n",
              "      box-shadow: 0px 1px 3px 1px rgba(0, 0, 0, 0.15);\n",
              "      filter: drop-shadow(0px 1px 2px rgba(0, 0, 0, 0.3));\n",
              "      fill: #FFFFFF;\n",
              "    }\n",
              "  </style>\n",
              "\n",
              "      <script>\n",
              "        const buttonEl =\n",
              "          document.querySelector('#df-31dbc11d-2b98-47bf-9e21-d1ba450a0a18 button.colab-df-convert');\n",
              "        buttonEl.style.display =\n",
              "          google.colab.kernel.accessAllowed ? 'block' : 'none';\n",
              "\n",
              "        async function convertToInteractive(key) {\n",
              "          const element = document.querySelector('#df-31dbc11d-2b98-47bf-9e21-d1ba450a0a18');\n",
              "          const dataTable =\n",
              "            await google.colab.kernel.invokeFunction('convertToInteractive',\n",
              "                                                     [key], {});\n",
              "          if (!dataTable) return;\n",
              "\n",
              "          const docLinkHtml = 'Like what you see? Visit the ' +\n",
              "            '<a target=\"_blank\" href=https://colab.research.google.com/notebooks/data_table.ipynb>data table notebook</a>'\n",
              "            + ' to learn more about interactive tables.';\n",
              "          element.innerHTML = '';\n",
              "          dataTable['output_type'] = 'display_data';\n",
              "          await google.colab.output.renderOutput(dataTable, element);\n",
              "          const docLink = document.createElement('div');\n",
              "          docLink.innerHTML = docLinkHtml;\n",
              "          element.appendChild(docLink);\n",
              "        }\n",
              "      </script>\n",
              "    </div>\n",
              "  </div>\n",
              "  "
            ]
          },
          "metadata": {},
          "execution_count": 4
        }
      ]
    },
    {
      "cell_type": "code",
      "source": [
        "import numpy as np\n",
        "from tensorflow import keras\n",
        "from tensorflow.keras.models import Sequential\n",
        "from tensorflow.keras.layers import Embedding, LSTM, Dense\n",
        "from tensorflow.keras.preprocessing.text import Tokenizer\n",
        "from tensorflow.keras.preprocessing.sequence import pad_sequences"
      ],
      "metadata": {
        "id": "PvQbqqXMRdJj"
      },
      "execution_count": 5,
      "outputs": []
    },
    {
      "cell_type": "code",
      "source": [
        "dataset = dataset[dataset['sentiment'].isin(['positive', 'negative'])]"
      ],
      "metadata": {
        "id": "xNFGaubvRdHd"
      },
      "execution_count": 6,
      "outputs": []
    },
    {
      "cell_type": "code",
      "source": [
        "dataset[\"sentiment\"].loc[dataset[\"sentiment\"]==\"positive\"]=1.0\n",
        "dataset[\"sentiment\"].loc[dataset[\"sentiment\"]==\"negative\"]=0.0"
      ],
      "metadata": {
        "id": "dXMtM7Q6RdFI"
      },
      "execution_count": 7,
      "outputs": []
    },
    {
      "cell_type": "code",
      "source": [
        "dataset.head(30)"
      ],
      "metadata": {
        "colab": {
          "base_uri": "https://localhost:8080/",
          "height": 990
        },
        "id": "oTmrC01sRdCq",
        "outputId": "d8d665fe-161f-4c16-ed91-7aec6bbce399"
      },
      "execution_count": 8,
      "outputs": [
        {
          "output_type": "execute_result",
          "data": {
            "text/plain": [
              "                                               review sentiment\n",
              "0   One of the other reviewers has mentioned that ...       1.0\n",
              "1   A wonderful little production. <br /><br />The...       1.0\n",
              "2   I thought this was a wonderful way to spend ti...       1.0\n",
              "3   Basically there's a family where a little boy ...       0.0\n",
              "4   Petter Mattei's \"Love in the Time of Money\" is...       1.0\n",
              "5   Probably my all-time favorite movie, a story o...       1.0\n",
              "6   I sure would like to see a resurrection of a u...       1.0\n",
              "7   This show was an amazing, fresh & innovative i...       0.0\n",
              "8   Encouraged by the positive comments about this...       0.0\n",
              "9   If you like original gut wrenching laughter yo...       1.0\n",
              "10  Phil the Alien is one of those quirky films wh...       0.0\n",
              "11  I saw this movie when I was about 12 when it c...       0.0\n",
              "12  So im not a big fan of Boll's work but then ag...       0.0\n",
              "13  The cast played Shakespeare.<br /><br />Shakes...       0.0\n",
              "14  This a fantastic movie of three prisoners who ...       1.0\n",
              "15  Kind of drawn in by the erotic scenes, only to...       0.0\n",
              "16  Some films just simply should not be remade. T...       1.0\n",
              "17  This movie made it into one of my top 10 most ...       0.0\n",
              "18  I remember this film,it was the first film i h...       1.0\n",
              "19  An awful film! It must have been up against so...       0.0\n",
              "20  After the success of Die Hard and it's sequels...       1.0\n",
              "21  I had the terrible misfortune of having to vie...       0.0\n",
              "22  What an absolutely stunning movie, if you have...       1.0\n",
              "23  First of all, let's get a few things straight ...       0.0\n",
              "24  This was the worst movie I saw at WorldFest an...       0.0\n",
              "25  The Karen Carpenter Story shows a little more ...       1.0\n",
              "26  \"The Cell\" is an exotic masterpiece, a dizzyin...       1.0\n",
              "27  This film tried to be too many things all at o...       0.0\n",
              "28  This movie was so frustrating. Everything seem...       0.0\n",
              "29  'War movie' is a Hollywood genre that has been...       1.0"
            ],
            "text/html": [
              "\n",
              "  <div id=\"df-7fd1cfa2-482d-4dbf-a5ab-06299a609b88\">\n",
              "    <div class=\"colab-df-container\">\n",
              "      <div>\n",
              "<style scoped>\n",
              "    .dataframe tbody tr th:only-of-type {\n",
              "        vertical-align: middle;\n",
              "    }\n",
              "\n",
              "    .dataframe tbody tr th {\n",
              "        vertical-align: top;\n",
              "    }\n",
              "\n",
              "    .dataframe thead th {\n",
              "        text-align: right;\n",
              "    }\n",
              "</style>\n",
              "<table border=\"1\" class=\"dataframe\">\n",
              "  <thead>\n",
              "    <tr style=\"text-align: right;\">\n",
              "      <th></th>\n",
              "      <th>review</th>\n",
              "      <th>sentiment</th>\n",
              "    </tr>\n",
              "  </thead>\n",
              "  <tbody>\n",
              "    <tr>\n",
              "      <th>0</th>\n",
              "      <td>One of the other reviewers has mentioned that ...</td>\n",
              "      <td>1.0</td>\n",
              "    </tr>\n",
              "    <tr>\n",
              "      <th>1</th>\n",
              "      <td>A wonderful little production. &lt;br /&gt;&lt;br /&gt;The...</td>\n",
              "      <td>1.0</td>\n",
              "    </tr>\n",
              "    <tr>\n",
              "      <th>2</th>\n",
              "      <td>I thought this was a wonderful way to spend ti...</td>\n",
              "      <td>1.0</td>\n",
              "    </tr>\n",
              "    <tr>\n",
              "      <th>3</th>\n",
              "      <td>Basically there's a family where a little boy ...</td>\n",
              "      <td>0.0</td>\n",
              "    </tr>\n",
              "    <tr>\n",
              "      <th>4</th>\n",
              "      <td>Petter Mattei's \"Love in the Time of Money\" is...</td>\n",
              "      <td>1.0</td>\n",
              "    </tr>\n",
              "    <tr>\n",
              "      <th>5</th>\n",
              "      <td>Probably my all-time favorite movie, a story o...</td>\n",
              "      <td>1.0</td>\n",
              "    </tr>\n",
              "    <tr>\n",
              "      <th>6</th>\n",
              "      <td>I sure would like to see a resurrection of a u...</td>\n",
              "      <td>1.0</td>\n",
              "    </tr>\n",
              "    <tr>\n",
              "      <th>7</th>\n",
              "      <td>This show was an amazing, fresh &amp; innovative i...</td>\n",
              "      <td>0.0</td>\n",
              "    </tr>\n",
              "    <tr>\n",
              "      <th>8</th>\n",
              "      <td>Encouraged by the positive comments about this...</td>\n",
              "      <td>0.0</td>\n",
              "    </tr>\n",
              "    <tr>\n",
              "      <th>9</th>\n",
              "      <td>If you like original gut wrenching laughter yo...</td>\n",
              "      <td>1.0</td>\n",
              "    </tr>\n",
              "    <tr>\n",
              "      <th>10</th>\n",
              "      <td>Phil the Alien is one of those quirky films wh...</td>\n",
              "      <td>0.0</td>\n",
              "    </tr>\n",
              "    <tr>\n",
              "      <th>11</th>\n",
              "      <td>I saw this movie when I was about 12 when it c...</td>\n",
              "      <td>0.0</td>\n",
              "    </tr>\n",
              "    <tr>\n",
              "      <th>12</th>\n",
              "      <td>So im not a big fan of Boll's work but then ag...</td>\n",
              "      <td>0.0</td>\n",
              "    </tr>\n",
              "    <tr>\n",
              "      <th>13</th>\n",
              "      <td>The cast played Shakespeare.&lt;br /&gt;&lt;br /&gt;Shakes...</td>\n",
              "      <td>0.0</td>\n",
              "    </tr>\n",
              "    <tr>\n",
              "      <th>14</th>\n",
              "      <td>This a fantastic movie of three prisoners who ...</td>\n",
              "      <td>1.0</td>\n",
              "    </tr>\n",
              "    <tr>\n",
              "      <th>15</th>\n",
              "      <td>Kind of drawn in by the erotic scenes, only to...</td>\n",
              "      <td>0.0</td>\n",
              "    </tr>\n",
              "    <tr>\n",
              "      <th>16</th>\n",
              "      <td>Some films just simply should not be remade. T...</td>\n",
              "      <td>1.0</td>\n",
              "    </tr>\n",
              "    <tr>\n",
              "      <th>17</th>\n",
              "      <td>This movie made it into one of my top 10 most ...</td>\n",
              "      <td>0.0</td>\n",
              "    </tr>\n",
              "    <tr>\n",
              "      <th>18</th>\n",
              "      <td>I remember this film,it was the first film i h...</td>\n",
              "      <td>1.0</td>\n",
              "    </tr>\n",
              "    <tr>\n",
              "      <th>19</th>\n",
              "      <td>An awful film! It must have been up against so...</td>\n",
              "      <td>0.0</td>\n",
              "    </tr>\n",
              "    <tr>\n",
              "      <th>20</th>\n",
              "      <td>After the success of Die Hard and it's sequels...</td>\n",
              "      <td>1.0</td>\n",
              "    </tr>\n",
              "    <tr>\n",
              "      <th>21</th>\n",
              "      <td>I had the terrible misfortune of having to vie...</td>\n",
              "      <td>0.0</td>\n",
              "    </tr>\n",
              "    <tr>\n",
              "      <th>22</th>\n",
              "      <td>What an absolutely stunning movie, if you have...</td>\n",
              "      <td>1.0</td>\n",
              "    </tr>\n",
              "    <tr>\n",
              "      <th>23</th>\n",
              "      <td>First of all, let's get a few things straight ...</td>\n",
              "      <td>0.0</td>\n",
              "    </tr>\n",
              "    <tr>\n",
              "      <th>24</th>\n",
              "      <td>This was the worst movie I saw at WorldFest an...</td>\n",
              "      <td>0.0</td>\n",
              "    </tr>\n",
              "    <tr>\n",
              "      <th>25</th>\n",
              "      <td>The Karen Carpenter Story shows a little more ...</td>\n",
              "      <td>1.0</td>\n",
              "    </tr>\n",
              "    <tr>\n",
              "      <th>26</th>\n",
              "      <td>\"The Cell\" is an exotic masterpiece, a dizzyin...</td>\n",
              "      <td>1.0</td>\n",
              "    </tr>\n",
              "    <tr>\n",
              "      <th>27</th>\n",
              "      <td>This film tried to be too many things all at o...</td>\n",
              "      <td>0.0</td>\n",
              "    </tr>\n",
              "    <tr>\n",
              "      <th>28</th>\n",
              "      <td>This movie was so frustrating. Everything seem...</td>\n",
              "      <td>0.0</td>\n",
              "    </tr>\n",
              "    <tr>\n",
              "      <th>29</th>\n",
              "      <td>'War movie' is a Hollywood genre that has been...</td>\n",
              "      <td>1.0</td>\n",
              "    </tr>\n",
              "  </tbody>\n",
              "</table>\n",
              "</div>\n",
              "      <button class=\"colab-df-convert\" onclick=\"convertToInteractive('df-7fd1cfa2-482d-4dbf-a5ab-06299a609b88')\"\n",
              "              title=\"Convert this dataframe to an interactive table.\"\n",
              "              style=\"display:none;\">\n",
              "        \n",
              "  <svg xmlns=\"http://www.w3.org/2000/svg\" height=\"24px\"viewBox=\"0 0 24 24\"\n",
              "       width=\"24px\">\n",
              "    <path d=\"M0 0h24v24H0V0z\" fill=\"none\"/>\n",
              "    <path d=\"M18.56 5.44l.94 2.06.94-2.06 2.06-.94-2.06-.94-.94-2.06-.94 2.06-2.06.94zm-11 1L8.5 8.5l.94-2.06 2.06-.94-2.06-.94L8.5 2.5l-.94 2.06-2.06.94zm10 10l.94 2.06.94-2.06 2.06-.94-2.06-.94-.94-2.06-.94 2.06-2.06.94z\"/><path d=\"M17.41 7.96l-1.37-1.37c-.4-.4-.92-.59-1.43-.59-.52 0-1.04.2-1.43.59L10.3 9.45l-7.72 7.72c-.78.78-.78 2.05 0 2.83L4 21.41c.39.39.9.59 1.41.59.51 0 1.02-.2 1.41-.59l7.78-7.78 2.81-2.81c.8-.78.8-2.07 0-2.86zM5.41 20L4 18.59l7.72-7.72 1.47 1.35L5.41 20z\"/>\n",
              "  </svg>\n",
              "      </button>\n",
              "      \n",
              "  <style>\n",
              "    .colab-df-container {\n",
              "      display:flex;\n",
              "      flex-wrap:wrap;\n",
              "      gap: 12px;\n",
              "    }\n",
              "\n",
              "    .colab-df-convert {\n",
              "      background-color: #E8F0FE;\n",
              "      border: none;\n",
              "      border-radius: 50%;\n",
              "      cursor: pointer;\n",
              "      display: none;\n",
              "      fill: #1967D2;\n",
              "      height: 32px;\n",
              "      padding: 0 0 0 0;\n",
              "      width: 32px;\n",
              "    }\n",
              "\n",
              "    .colab-df-convert:hover {\n",
              "      background-color: #E2EBFA;\n",
              "      box-shadow: 0px 1px 2px rgba(60, 64, 67, 0.3), 0px 1px 3px 1px rgba(60, 64, 67, 0.15);\n",
              "      fill: #174EA6;\n",
              "    }\n",
              "\n",
              "    [theme=dark] .colab-df-convert {\n",
              "      background-color: #3B4455;\n",
              "      fill: #D2E3FC;\n",
              "    }\n",
              "\n",
              "    [theme=dark] .colab-df-convert:hover {\n",
              "      background-color: #434B5C;\n",
              "      box-shadow: 0px 1px 3px 1px rgba(0, 0, 0, 0.15);\n",
              "      filter: drop-shadow(0px 1px 2px rgba(0, 0, 0, 0.3));\n",
              "      fill: #FFFFFF;\n",
              "    }\n",
              "  </style>\n",
              "\n",
              "      <script>\n",
              "        const buttonEl =\n",
              "          document.querySelector('#df-7fd1cfa2-482d-4dbf-a5ab-06299a609b88 button.colab-df-convert');\n",
              "        buttonEl.style.display =\n",
              "          google.colab.kernel.accessAllowed ? 'block' : 'none';\n",
              "\n",
              "        async function convertToInteractive(key) {\n",
              "          const element = document.querySelector('#df-7fd1cfa2-482d-4dbf-a5ab-06299a609b88');\n",
              "          const dataTable =\n",
              "            await google.colab.kernel.invokeFunction('convertToInteractive',\n",
              "                                                     [key], {});\n",
              "          if (!dataTable) return;\n",
              "\n",
              "          const docLinkHtml = 'Like what you see? Visit the ' +\n",
              "            '<a target=\"_blank\" href=https://colab.research.google.com/notebooks/data_table.ipynb>data table notebook</a>'\n",
              "            + ' to learn more about interactive tables.';\n",
              "          element.innerHTML = '';\n",
              "          dataTable['output_type'] = 'display_data';\n",
              "          await google.colab.output.renderOutput(dataTable, element);\n",
              "          const docLink = document.createElement('div');\n",
              "          docLink.innerHTML = docLinkHtml;\n",
              "          element.appendChild(docLink);\n",
              "        }\n",
              "      </script>\n",
              "    </div>\n",
              "  </div>\n",
              "  "
            ]
          },
          "metadata": {},
          "execution_count": 8
        }
      ]
    },
    {
      "cell_type": "code",
      "source": [
        "from sklearn.model_selection import train_test_split\n",
        "# Convert the text data to sequences\n",
        "tokenizer = Tokenizer(num_words=10000)\n",
        "tokenizer.fit_on_texts(dataset[\"review\"])\n",
        "\n",
        "sequences = tokenizer.texts_to_sequences(dataset[\"review\"])\n",
        "\n",
        "# Pad sequences to have the same length\n",
        "max_sequence_length = 100\n",
        "padded_sequences = pad_sequences(sequences, maxlen=max_sequence_length)\n",
        "\n",
        "# Split the data into training and testing sets\n",
        "X_train, X_test, y_train, y_test = train_test_split(padded_sequences, dataset[\"sentiment\"], test_size=0.2, random_state=42)\n"
      ],
      "metadata": {
        "id": "ds3NRIA3T_kg"
      },
      "execution_count": 10,
      "outputs": []
    },
    {
      "cell_type": "code",
      "source": [
        "# Assuming you have downloaded the pre-trained GloVe embeddings file and placed it in the current directory\n",
        "glove_file = 'glove.6B.100d.txt'\n",
        "\n",
        "# Create a dictionary to map words to their corresponding word vectors\n",
        "embeddings_index = {}\n",
        "with open(glove_file, 'r', encoding='utf8') as f:\n",
        "    for line in f:\n",
        "        values = line.split()\n",
        "        word = values[0]\n",
        "        coefs = np.asarray(values[1:], dtype='float32')\n",
        "        embeddings_index[word] = coefs\n",
        "\n",
        "# Create an embedding matrix for the words in our dataset\n",
        "embedding_dim = 100\n",
        "num_words = min(10000, len(tokenizer.word_index) + 1)\n",
        "embedding_matrix = np.zeros((num_words, embedding_dim))\n",
        "for word, i in tokenizer.word_index.items():\n",
        "    if i < num_words:\n",
        "        embedding_vector = embeddings_index.get(word)\n",
        "        if embedding_vector is not None:\n",
        "            embedding_matrix[i] = embedding_vector"
      ],
      "metadata": {
        "id": "YzBPTNvLT_iI"
      },
      "execution_count": 11,
      "outputs": []
    },
    {
      "cell_type": "code",
      "source": [
        "model = Sequential()\n",
        "model.add(Embedding(num_words, embedding_dim, weights=[embedding_matrix], input_length=max_sequence_length, trainable=False))\n",
        "model.add(LSTM(64))\n",
        "model.add(Dense(1, activation='sigmoid'))\n",
        "\n",
        "model.compile(loss='binary_crossentropy', optimizer='adam', metrics=['accuracy'])"
      ],
      "metadata": {
        "id": "7MFeKUGwT_fy"
      },
      "execution_count": 12,
      "outputs": []
    },
    {
      "cell_type": "markdown",
      "source": [
        "Model Training"
      ],
      "metadata": {
        "id": "B19PEMkrUJle"
      }
    },
    {
      "cell_type": "code",
      "source": [
        "print(y_train)"
      ],
      "metadata": {
        "colab": {
          "base_uri": "https://localhost:8080/"
        },
        "id": "hmHwV-5XT_dt",
        "outputId": "612d1796-1124-4b5b-8645-0e8b9bab9879"
      },
      "execution_count": 13,
      "outputs": [
        {
          "output_type": "stream",
          "name": "stdout",
          "text": [
            "39087    0.0\n",
            "30893    0.0\n",
            "45278    1.0\n",
            "16398    0.0\n",
            "13653    0.0\n",
            "        ... \n",
            "11284    1.0\n",
            "44732    1.0\n",
            "38158    0.0\n",
            "860      1.0\n",
            "15795    1.0\n",
            "Name: sentiment, Length: 40000, dtype: object\n"
          ]
        }
      ]
    },
    {
      "cell_type": "code",
      "source": [
        "X_train = np.asarray(X_train).astype(np.float32)"
      ],
      "metadata": {
        "id": "FX_kZt9oT_bO"
      },
      "execution_count": 14,
      "outputs": []
    },
    {
      "cell_type": "code",
      "source": [
        "print(y_train)"
      ],
      "metadata": {
        "colab": {
          "base_uri": "https://localhost:8080/"
        },
        "id": "vPnLYAJCUOhk",
        "outputId": "90322c79-5841-40f1-abd6-1d2ce8823084"
      },
      "execution_count": 15,
      "outputs": [
        {
          "output_type": "stream",
          "name": "stdout",
          "text": [
            "39087    0.0\n",
            "30893    0.0\n",
            "45278    1.0\n",
            "16398    0.0\n",
            "13653    0.0\n",
            "        ... \n",
            "11284    1.0\n",
            "44732    1.0\n",
            "38158    0.0\n",
            "860      1.0\n",
            "15795    1.0\n",
            "Name: sentiment, Length: 40000, dtype: object\n"
          ]
        }
      ]
    },
    {
      "cell_type": "code",
      "source": [
        "#y_train = np.asarray(y_train).astype(np.float32)\n",
        "y_train = np.asarray(y_train).astype('float32')"
      ],
      "metadata": {
        "id": "ZbaZ4en8UOew"
      },
      "execution_count": 16,
      "outputs": []
    },
    {
      "cell_type": "code",
      "source": [
        "history = model.fit(X_train, y_train, validation_split=0.1, epochs=50, batch_size=128)"
      ],
      "metadata": {
        "colab": {
          "base_uri": "https://localhost:8080/"
        },
        "id": "hJneEJ0NUOcK",
        "outputId": "483f354f-0526-47ad-e020-c5f9706f0dc1"
      },
      "execution_count": 17,
      "outputs": [
        {
          "output_type": "stream",
          "name": "stdout",
          "text": [
            "Epoch 1/50\n",
            "282/282 [==============================] - 58s 196ms/step - loss: 0.5419 - accuracy: 0.7237 - val_loss: 0.4502 - val_accuracy: 0.7915\n",
            "Epoch 2/50\n",
            "282/282 [==============================] - 55s 194ms/step - loss: 0.4258 - accuracy: 0.8011 - val_loss: 0.3960 - val_accuracy: 0.8223\n",
            "Epoch 3/50\n",
            "282/282 [==============================] - 52s 186ms/step - loss: 0.3843 - accuracy: 0.8263 - val_loss: 0.3795 - val_accuracy: 0.8328\n",
            "Epoch 4/50\n",
            "282/282 [==============================] - 55s 195ms/step - loss: 0.3607 - accuracy: 0.8391 - val_loss: 0.3536 - val_accuracy: 0.8432\n",
            "Epoch 5/50\n",
            "282/282 [==============================] - 53s 189ms/step - loss: 0.3408 - accuracy: 0.8497 - val_loss: 0.3421 - val_accuracy: 0.8460\n",
            "Epoch 6/50\n",
            "282/282 [==============================] - 53s 187ms/step - loss: 0.3272 - accuracy: 0.8568 - val_loss: 0.3404 - val_accuracy: 0.8525\n",
            "Epoch 7/50\n",
            "282/282 [==============================] - 58s 207ms/step - loss: 0.3129 - accuracy: 0.8616 - val_loss: 0.3299 - val_accuracy: 0.8540\n",
            "Epoch 8/50\n",
            "282/282 [==============================] - 54s 192ms/step - loss: 0.2981 - accuracy: 0.8711 - val_loss: 0.3497 - val_accuracy: 0.8428\n",
            "Epoch 9/50\n",
            "282/282 [==============================] - 53s 190ms/step - loss: 0.2864 - accuracy: 0.8754 - val_loss: 0.3381 - val_accuracy: 0.8462\n",
            "Epoch 10/50\n",
            "282/282 [==============================] - 55s 195ms/step - loss: 0.2747 - accuracy: 0.8825 - val_loss: 0.3196 - val_accuracy: 0.8583\n",
            "Epoch 11/50\n",
            "282/282 [==============================] - 53s 189ms/step - loss: 0.2663 - accuracy: 0.8875 - val_loss: 0.3122 - val_accuracy: 0.8680\n",
            "Epoch 12/50\n",
            "282/282 [==============================] - 53s 188ms/step - loss: 0.2466 - accuracy: 0.8965 - val_loss: 0.3235 - val_accuracy: 0.8587\n",
            "Epoch 13/50\n",
            "282/282 [==============================] - 55s 193ms/step - loss: 0.2387 - accuracy: 0.9004 - val_loss: 0.3256 - val_accuracy: 0.8622\n",
            "Epoch 14/50\n",
            "282/282 [==============================] - 53s 187ms/step - loss: 0.2230 - accuracy: 0.9076 - val_loss: 0.3275 - val_accuracy: 0.8637\n",
            "Epoch 15/50\n",
            "282/282 [==============================] - 54s 191ms/step - loss: 0.2145 - accuracy: 0.9114 - val_loss: 0.3237 - val_accuracy: 0.8677\n",
            "Epoch 16/50\n",
            "282/282 [==============================] - 57s 201ms/step - loss: 0.1977 - accuracy: 0.9199 - val_loss: 0.3526 - val_accuracy: 0.8658\n",
            "Epoch 17/50\n",
            "282/282 [==============================] - 53s 187ms/step - loss: 0.1855 - accuracy: 0.9253 - val_loss: 0.3392 - val_accuracy: 0.8630\n",
            "Epoch 18/50\n",
            "282/282 [==============================] - 54s 190ms/step - loss: 0.1718 - accuracy: 0.9316 - val_loss: 0.3987 - val_accuracy: 0.8515\n",
            "Epoch 19/50\n",
            "282/282 [==============================] - 56s 198ms/step - loss: 0.1624 - accuracy: 0.9356 - val_loss: 0.3688 - val_accuracy: 0.8525\n",
            "Epoch 20/50\n",
            "282/282 [==============================] - 52s 185ms/step - loss: 0.1513 - accuracy: 0.9408 - val_loss: 0.3840 - val_accuracy: 0.8493\n",
            "Epoch 21/50\n",
            "282/282 [==============================] - 54s 193ms/step - loss: 0.1335 - accuracy: 0.9485 - val_loss: 0.4294 - val_accuracy: 0.8533\n",
            "Epoch 22/50\n",
            "282/282 [==============================] - 54s 191ms/step - loss: 0.1299 - accuracy: 0.9507 - val_loss: 0.4388 - val_accuracy: 0.8562\n",
            "Epoch 23/50\n",
            "282/282 [==============================] - 53s 187ms/step - loss: 0.1126 - accuracy: 0.9575 - val_loss: 0.4861 - val_accuracy: 0.8565\n",
            "Epoch 24/50\n",
            "282/282 [==============================] - 55s 196ms/step - loss: 0.1012 - accuracy: 0.9635 - val_loss: 0.5045 - val_accuracy: 0.8558\n",
            "Epoch 25/50\n",
            "282/282 [==============================] - 52s 186ms/step - loss: 0.0908 - accuracy: 0.9672 - val_loss: 0.5284 - val_accuracy: 0.8525\n",
            "Epoch 26/50\n",
            "282/282 [==============================] - 54s 192ms/step - loss: 0.0817 - accuracy: 0.9715 - val_loss: 0.5443 - val_accuracy: 0.8445\n",
            "Epoch 27/50\n",
            "282/282 [==============================] - 56s 200ms/step - loss: 0.0767 - accuracy: 0.9742 - val_loss: 0.5411 - val_accuracy: 0.8475\n",
            "Epoch 28/50\n",
            "282/282 [==============================] - 53s 188ms/step - loss: 0.0724 - accuracy: 0.9756 - val_loss: 0.5664 - val_accuracy: 0.8450\n",
            "Epoch 29/50\n",
            "282/282 [==============================] - 54s 191ms/step - loss: 0.0624 - accuracy: 0.9790 - val_loss: 0.5897 - val_accuracy: 0.8478\n",
            "Epoch 30/50\n",
            "282/282 [==============================] - 55s 194ms/step - loss: 0.0545 - accuracy: 0.9821 - val_loss: 0.6246 - val_accuracy: 0.8397\n",
            "Epoch 31/50\n",
            "282/282 [==============================] - 52s 185ms/step - loss: 0.0451 - accuracy: 0.9856 - val_loss: 0.6433 - val_accuracy: 0.8485\n",
            "Epoch 32/50\n",
            "282/282 [==============================] - 55s 195ms/step - loss: 0.0476 - accuracy: 0.9849 - val_loss: 0.6425 - val_accuracy: 0.8400\n",
            "Epoch 33/50\n",
            "282/282 [==============================] - 56s 198ms/step - loss: 0.0532 - accuracy: 0.9818 - val_loss: 0.6709 - val_accuracy: 0.8382\n",
            "Epoch 34/50\n",
            "282/282 [==============================] - 53s 188ms/step - loss: 0.0379 - accuracy: 0.9880 - val_loss: 0.7124 - val_accuracy: 0.8508\n",
            "Epoch 35/50\n",
            "282/282 [==============================] - 55s 196ms/step - loss: 0.0390 - accuracy: 0.9882 - val_loss: 0.7687 - val_accuracy: 0.8468\n",
            "Epoch 36/50\n",
            "282/282 [==============================] - 57s 201ms/step - loss: 0.0357 - accuracy: 0.9889 - val_loss: 0.7737 - val_accuracy: 0.8440\n",
            "Epoch 37/50\n",
            "282/282 [==============================] - 53s 187ms/step - loss: 0.0239 - accuracy: 0.9941 - val_loss: 0.8177 - val_accuracy: 0.8503\n",
            "Epoch 38/50\n",
            "282/282 [==============================] - 54s 192ms/step - loss: 0.0211 - accuracy: 0.9949 - val_loss: 0.8168 - val_accuracy: 0.8345\n",
            "Epoch 39/50\n",
            "282/282 [==============================] - 54s 192ms/step - loss: 0.0355 - accuracy: 0.9883 - val_loss: 0.8050 - val_accuracy: 0.8407\n",
            "Epoch 40/50\n",
            "282/282 [==============================] - 53s 187ms/step - loss: 0.0327 - accuracy: 0.9899 - val_loss: 0.8585 - val_accuracy: 0.8393\n",
            "Epoch 41/50\n",
            "282/282 [==============================] - 54s 192ms/step - loss: 0.0207 - accuracy: 0.9945 - val_loss: 0.7980 - val_accuracy: 0.8380\n",
            "Epoch 42/50\n",
            "282/282 [==============================] - 53s 188ms/step - loss: 0.0224 - accuracy: 0.9934 - val_loss: 0.8511 - val_accuracy: 0.8465\n",
            "Epoch 43/50\n",
            "282/282 [==============================] - 54s 190ms/step - loss: 0.0310 - accuracy: 0.9900 - val_loss: 0.8924 - val_accuracy: 0.8482\n",
            "Epoch 44/50\n",
            "282/282 [==============================] - 57s 201ms/step - loss: 0.0240 - accuracy: 0.9925 - val_loss: 0.8803 - val_accuracy: 0.8413\n",
            "Epoch 45/50\n",
            "282/282 [==============================] - 52s 186ms/step - loss: 0.0112 - accuracy: 0.9981 - val_loss: 0.9518 - val_accuracy: 0.8420\n",
            "Epoch 46/50\n",
            "282/282 [==============================] - 55s 193ms/step - loss: 0.0252 - accuracy: 0.9922 - val_loss: 0.8869 - val_accuracy: 0.8432\n",
            "Epoch 47/50\n",
            "282/282 [==============================] - 57s 201ms/step - loss: 0.0354 - accuracy: 0.9888 - val_loss: 0.9167 - val_accuracy: 0.8388\n",
            "Epoch 48/50\n",
            "282/282 [==============================] - 55s 196ms/step - loss: 0.0203 - accuracy: 0.9943 - val_loss: 0.9185 - val_accuracy: 0.8415\n",
            "Epoch 49/50\n",
            "282/282 [==============================] - 53s 187ms/step - loss: 0.0148 - accuracy: 0.9962 - val_loss: 0.9561 - val_accuracy: 0.8440\n",
            "Epoch 50/50\n",
            "282/282 [==============================] - 54s 193ms/step - loss: 0.0152 - accuracy: 0.9961 - val_loss: 0.9962 - val_accuracy: 0.8405\n"
          ]
        }
      ]
    },
    {
      "cell_type": "code",
      "source": [
        "X_test = np.asarray(X_test).astype(np.float32)\n",
        "y_test = np.asarray(y_test).astype('float32')"
      ],
      "metadata": {
        "id": "H5q_u4M1UOZ-"
      },
      "execution_count": 18,
      "outputs": []
    },
    {
      "cell_type": "code",
      "source": [
        "model.summary()"
      ],
      "metadata": {
        "colab": {
          "base_uri": "https://localhost:8080/"
        },
        "id": "BzG8-zAPUU-3",
        "outputId": "3973d842-631f-4b41-d338-1782e65badd0"
      },
      "execution_count": 19,
      "outputs": [
        {
          "output_type": "stream",
          "name": "stdout",
          "text": [
            "Model: \"sequential\"\n",
            "_________________________________________________________________\n",
            " Layer (type)                Output Shape              Param #   \n",
            "=================================================================\n",
            " embedding (Embedding)       (None, 100, 100)          1000000   \n",
            "                                                                 \n",
            " lstm (LSTM)                 (None, 64)                42240     \n",
            "                                                                 \n",
            " dense (Dense)               (None, 1)                 65        \n",
            "                                                                 \n",
            "=================================================================\n",
            "Total params: 1,042,305\n",
            "Trainable params: 42,305\n",
            "Non-trainable params: 1,000,000\n",
            "_________________________________________________________________\n"
          ]
        }
      ]
    },
    {
      "cell_type": "code",
      "source": [
        "_, accuracy = model.evaluate(X_test, y_test)\n",
        "print('Test Accuracy:', accuracy)"
      ],
      "metadata": {
        "colab": {
          "base_uri": "https://localhost:8080/"
        },
        "id": "K-yxFbvIUU8z",
        "outputId": "6ba34f3a-3078-439a-8465-ed818487fdf2"
      },
      "execution_count": 20,
      "outputs": [
        {
          "output_type": "stream",
          "name": "stdout",
          "text": [
            "313/313 [==============================] - 7s 21ms/step - loss: 0.9499 - accuracy: 0.8507\n",
            "Test Accuracy: 0.8507000207901001\n"
          ]
        }
      ]
    },
    {
      "cell_type": "code",
      "source": [
        "from sklearn.metrics import accuracy_score, precision_score, recall_score, f1_score\n",
        "\n",
        "# Make predictions on the test set\n",
        "y_pred = model.predict(X_test)\n",
        "y_pred = y_pred.flatten()\n",
        "y_pred = np.where(y_pred > 0.5, 1, 0)\n",
        "print(f1_score(y_test,y_pred))"
      ],
      "metadata": {
        "colab": {
          "base_uri": "https://localhost:8080/"
        },
        "id": "cZtoCUzDUU6b",
        "outputId": "19ad6d5c-0b0f-430d-d27a-e140650fcaa5"
      },
      "execution_count": 21,
      "outputs": [
        {
          "output_type": "stream",
          "name": "stdout",
          "text": [
            "313/313 [==============================] - 7s 19ms/step\n",
            "0.8508938380105862\n"
          ]
        }
      ]
    }
  ]
}